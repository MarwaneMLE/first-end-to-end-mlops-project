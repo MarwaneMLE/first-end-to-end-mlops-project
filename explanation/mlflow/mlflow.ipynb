{
 "cells": [
  {
   "cell_type": "code",
   "execution_count": 13,
   "metadata": {},
   "outputs": [],
   "source": [
    "import mlflow "
   ]
  },
  {
   "cell_type": "code",
   "execution_count": 14,
   "metadata": {},
   "outputs": [],
   "source": [
    "#!pip show mlflow"
   ]
  },
  {
   "cell_type": "code",
   "execution_count": 15,
   "metadata": {},
   "outputs": [
    {
     "ename": "AttributeError",
     "evalue": "module 'mlflow' has no attribute 'start_run'",
     "output_type": "error",
     "traceback": [
      "\u001b[0;31m---------------------------------------------------------------------------\u001b[0m",
      "\u001b[0;31mAttributeError\u001b[0m                            Traceback (most recent call last)",
      "Cell \u001b[0;32mIn[15], line 14\u001b[0m\n\u001b[1;32m     12\u001b[0m \u001b[38;5;28;01mif\u001b[39;00m \u001b[38;5;18m__name__\u001b[39m \u001b[38;5;241m==\u001b[39m \u001b[38;5;124m\"\u001b[39m\u001b[38;5;124m__main__\u001b[39m\u001b[38;5;124m\"\u001b[39m: \n\u001b[1;32m     13\u001b[0m     a, b, opt \u001b[38;5;241m=\u001b[39m \u001b[38;5;241m11\u001b[39m, \u001b[38;5;241m20\u001b[39m, \u001b[38;5;124m\"\u001b[39m\u001b[38;5;124madd\u001b[39m\u001b[38;5;124m\"\u001b[39m \n\u001b[0;32m---> 14\u001b[0m     \u001b[38;5;28;01mwith\u001b[39;00m \u001b[43mmlflow\u001b[49m\u001b[38;5;241;43m.\u001b[39;49m\u001b[43mstart_run\u001b[49m():\n\u001b[1;32m     15\u001b[0m         res \u001b[38;5;241m=\u001b[39m calulator(a, b, opt)\n\u001b[1;32m     16\u001b[0m         mlflow\u001b[38;5;241m.\u001b[39mlog_param(\u001b[38;5;124m\"\u001b[39m\u001b[38;5;124ma\u001b[39m\u001b[38;5;124m\"\u001b[39m, a)\n",
      "\u001b[0;31mAttributeError\u001b[0m: module 'mlflow' has no attribute 'start_run'"
     ]
    }
   ],
   "source": [
    "def calulator(a, b, operation=None):\n",
    "    if operation == \"add\":\n",
    "        return a + b\n",
    "    if operation == \"sub\":\n",
    "        return a - b\n",
    "    if operation == \"mul\":\n",
    "        return a * b\n",
    "    if operation == \"div\":\n",
    "        return a / b\n",
    " \n",
    "\n",
    "if __name__ == \"__main__\": \n",
    "    a, b, opt = 11, 20, \"add\" \n",
    "    with mlflow.start_run():\n",
    "        res = calulator(a, b, opt)\n",
    "        mlflow.log_param(\"a\", a)\n",
    "        mlflow.log_param(\"b\", b)\n",
    "        mlflow.log_param(\"opt\", opt)\n",
    "        print(f\"Result is: {res}\") \n",
    "        mlflow.log_param(\"res\", res) "
   ]
  },
  {
   "cell_type": "code",
   "execution_count": null,
   "metadata": {},
   "outputs": [
    {
     "ename": "AttributeError",
     "evalue": "module 'mlflow' has no attribute 'start_run'",
     "output_type": "error",
     "traceback": [
      "\u001b[0;31m---------------------------------------------------------------------------\u001b[0m",
      "\u001b[0;31mAttributeError\u001b[0m                            Traceback (most recent call last)",
      "Cell \u001b[0;32mIn[6], line 1\u001b[0m\n\u001b[0;32m----> 1\u001b[0m \u001b[38;5;28;01mwith\u001b[39;00m \u001b[43mmlflow\u001b[49m\u001b[38;5;241;43m.\u001b[39;49m\u001b[43mstart_run\u001b[49m():\n\u001b[1;32m      2\u001b[0m     \u001b[38;5;28;01mpass\u001b[39;00m\n",
      "\u001b[0;31mAttributeError\u001b[0m: module 'mlflow' has no attribute 'start_run'"
     ]
    }
   ],
   "source": [
    "with mlflow.start_run():\n",
    "    pass"
   ]
  },
  {
   "cell_type": "code",
   "execution_count": null,
   "metadata": {},
   "outputs": [],
   "source": []
  }
 ],
 "metadata": {
  "kernelspec": {
   "display_name": "Python 3",
   "language": "python",
   "name": "python3"
  },
  "language_info": {
   "codemirror_mode": {
    "name": "ipython",
    "version": 3
   },
   "file_extension": ".py",
   "mimetype": "text/x-python",
   "name": "python",
   "nbconvert_exporter": "python",
   "pygments_lexer": "ipython3",
   "version": "3.8.20"
  }
 },
 "nbformat": 4,
 "nbformat_minor": 2
}
